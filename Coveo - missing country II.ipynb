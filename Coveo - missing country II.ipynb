{
 "cells": [
  {
   "cell_type": "code",
   "execution_count": 3,
   "metadata": {
    "colab": {
     "base_uri": "https://localhost:8080/",
     "height": 153
    },
    "colab_type": "code",
    "executionInfo": {
     "elapsed": 2109,
     "status": "ok",
     "timestamp": 1565023838818,
     "user": {
      "displayName": "Saeed Rashwand",
      "photoUrl": "https://lh5.googleusercontent.com/-t7uMjMeGeks/AAAAAAAAAAI/AAAAAAAAAbE/E0087nAfsXw/s64/photo.jpg",
      "userId": "12401044934727524310"
     },
     "user_tz": 240
    },
    "id": "V2b75y7LWFFb",
    "outputId": "8a018ed5-ce6f-488d-ca9f-052633ca7057"
   },
   "outputs": [
    {
     "data": {
      "text/plain": [
       "'\\n\\nfrom google.colab import drive\\ndrive.mount(\\'/content/gdrive\\')\\n\\n!ls -l \"/content/gdrive/My Drive/Colab Notebooks/Interviews/\"\\n\\nimport os\\n# Root directory of the project\\nROOT_DIR = os.path.abspath(\"/content/gdrive/My Drive/Colab Notebooks/Interviews/\")\\nos.chdir(ROOT_DIR)\\npd.options.mode.chained_assignment = None\\n\\n'"
      ]
     },
     "execution_count": 3,
     "metadata": {},
     "output_type": "execute_result"
    }
   ],
   "source": [
    "'''\n",
    "\n",
    "from google.colab import drive\n",
    "drive.mount('/content/gdrive')\n",
    "\n",
    "!ls -l \"/content/gdrive/My Drive/Colab Notebooks/Interviews/\"\n",
    "\n",
    "import os\n",
    "# Root directory of the project\n",
    "ROOT_DIR = os.path.abspath(\"/content/gdrive/My Drive/Colab Notebooks/Interviews/\")\n",
    "os.chdir(ROOT_DIR)\n",
    "pd.options.mode.chained_assignment = None\n",
    "\n",
    "'''"
   ]
  },
  {
   "cell_type": "code",
   "execution_count": 24,
   "metadata": {
    "colab": {
     "base_uri": "https://localhost:8080/",
     "height": 51
    },
    "colab_type": "code",
    "executionInfo": {
     "elapsed": 6102,
     "status": "ok",
     "timestamp": 1565015905599,
     "user": {
      "displayName": "Saeed Rashwand",
      "photoUrl": "https://lh5.googleusercontent.com/-t7uMjMeGeks/AAAAAAAAAAI/AAAAAAAAAbE/E0087nAfsXw/s64/photo.jpg",
      "userId": "12401044934727524310"
     },
     "user_tz": 240
    },
    "id": "s_yJmDbAGVBm",
    "outputId": "c4352fac-629f-471b-b41c-78df95dda18e"
   },
   "outputs": [
    {
     "name": "stdout",
     "output_type": "stream",
     "text": [
      "Requirement already satisfied: unidecode in /home/saeed/anaconda3/lib/python3.6/site-packages (1.1.1)\n",
      "Requirement already satisfied: iso3166 in /home/saeed/anaconda3/lib/python3.6/site-packages (1.0)\n"
     ]
    }
   ],
   "source": [
    "!pip install unidecode\n",
    "!pip install iso3166"
   ]
  },
  {
   "cell_type": "code",
   "execution_count": 4,
   "metadata": {
    "colab": {},
    "colab_type": "code",
    "id": "QNL1lMkuXKtP"
   },
   "outputs": [],
   "source": [
    "import json\n",
    "import pandas as pd\n",
    "import numpy as np \n",
    "from pandas.io.json import json_normalize\n",
    "import unidecode\n",
    "from iso3166 import countries\n",
    "\n",
    "# my own use for dibugging, to force reload the costum module. \n",
    "import importlib\n",
    "import missing_country \n",
    "importlib.reload(missing_country)\n",
    "from missing_country import * \n",
    "\n",
    "pd.options.mode.chained_assignment = None"
   ]
  },
  {
   "cell_type": "code",
   "execution_count": 17,
   "metadata": {},
   "outputs": [],
   "source": [
    "json_file = \"city_search.json\"\n",
    "world_cities_csv = \"world-cities1.csv\""
   ]
  },
  {
   "cell_type": "code",
   "execution_count": 5,
   "metadata": {
    "colab": {
     "base_uri": "https://localhost:8080/",
     "height": 34
    },
    "colab_type": "code",
    "executionInfo": {
     "elapsed": 723,
     "status": "ok",
     "timestamp": 1565016956401,
     "user": {
      "displayName": "Saeed Rashwand",
      "photoUrl": "https://lh5.googleusercontent.com/-t7uMjMeGeks/AAAAAAAAAAI/AAAAAAAAAbE/E0087nAfsXw/s64/photo.jpg",
      "userId": "12401044934727524310"
     },
     "user_tz": 240
    },
    "id": "5SFQHcgVWRAY",
    "outputId": "f875fd80-0329-4243-d560-625fbfe73239"
   },
   "outputs": [],
   "source": [
    "# reading the JSON data using json.load()\n",
    "\n",
    "dframe = load_data_as_df(json_file)"
   ]
  },
  {
   "cell_type": "code",
   "execution_count": null,
   "metadata": {
    "colab": {},
    "colab_type": "code",
    "id": "Q_eyHcrxj-uF"
   },
   "outputs": [],
   "source": [
    "# Clean up data to remove lists in the columns\n",
    "preprocess_data(dframe)"
   ]
  },
  {
   "cell_type": "code",
   "execution_count": 7,
   "metadata": {
    "colab": {
     "base_uri": "https://localhost:8080/",
     "height": 34
    },
    "colab_type": "code",
    "executionInfo": {
     "elapsed": 477,
     "status": "ok",
     "timestamp": 1565016965666,
     "user": {
      "displayName": "Saeed Rashwand",
      "photoUrl": "https://lh5.googleusercontent.com/-t7uMjMeGeks/AAAAAAAAAAI/AAAAAAAAAbE/E0087nAfsXw/s64/photo.jpg",
      "userId": "12401044934727524310"
     },
     "user_tz": 240
    },
    "id": "zpmroPDXhrnj",
    "outputId": "b376f28d-0cf8-4edc-a520-d487da7be552"
   },
   "outputs": [
    {
     "name": "stdout",
     "output_type": "stream",
     "text": [
      "{'', 'ES', 'US', 'FR', 'DE', 'IT', 'UK'}\n"
     ]
    }
   ],
   "source": [
    "# find list of users' countries\n",
    "countriesSet = find_user_countries_set(dframe)\n",
    "print(countriesSet)"
   ]
  },
  {
   "cell_type": "code",
   "execution_count": 8,
   "metadata": {
    "colab": {},
    "colab_type": "code",
    "id": "qvw2O4jzqxAq"
   },
   "outputs": [],
   "source": [
    "# split list of cities searched by users (with missed country), if country of user is known, replace it with None\n",
    "citiesSeries = get_cities_users_unknown(dframe)"
   ]
  },
  {
   "cell_type": "code",
   "execution_count": 9,
   "metadata": {
    "colab": {
     "base_uri": "https://localhost:8080/",
     "height": 34
    },
    "colab_type": "code",
    "executionInfo": {
     "elapsed": 1128,
     "status": "ok",
     "timestamp": 1565016973781,
     "user": {
      "displayName": "Saeed Rashwand",
      "photoUrl": "https://lh5.googleusercontent.com/-t7uMjMeGeks/AAAAAAAAAAI/AAAAAAAAAbE/E0087nAfsXw/s64/photo.jpg",
      "userId": "12401044934727524310"
     },
     "user_tz": 240
    },
    "id": "o4MHc-_2Rrvs",
    "outputId": "73099eff-8aa0-406b-b48d-88bf42b3bcc9"
   },
   "outputs": [
    {
     "data": {
      "text/html": [
       "<div>\n",
       "<style scoped>\n",
       "    .dataframe tbody tr th:only-of-type {\n",
       "        vertical-align: middle;\n",
       "    }\n",
       "\n",
       "    .dataframe tbody tr th {\n",
       "        vertical-align: top;\n",
       "    }\n",
       "\n",
       "    .dataframe thead th {\n",
       "        text-align: right;\n",
       "    }\n",
       "</style>\n",
       "<table border=\"1\" class=\"dataframe\">\n",
       "  <thead>\n",
       "    <tr style=\"text-align: right;\">\n",
       "      <th></th>\n",
       "      <th>city</th>\n",
       "      <th>count</th>\n",
       "    </tr>\n",
       "  </thead>\n",
       "  <tbody>\n",
       "    <tr>\n",
       "      <th>0</th>\n",
       "      <td>New York NY</td>\n",
       "      <td>754</td>\n",
       "    </tr>\n",
       "    <tr>\n",
       "      <th>1</th>\n",
       "      <td>Toronto ON</td>\n",
       "      <td>457</td>\n",
       "    </tr>\n",
       "    <tr>\n",
       "      <th>2</th>\n",
       "      <td>Los Angeles CA</td>\n",
       "      <td>344</td>\n",
       "    </tr>\n",
       "    <tr>\n",
       "      <th>3</th>\n",
       "      <td>Montreal QC</td>\n",
       "      <td>334</td>\n",
       "    </tr>\n",
       "    <tr>\n",
       "      <th>4</th>\n",
       "      <td>Chicago IL</td>\n",
       "      <td>285</td>\n",
       "    </tr>\n",
       "  </tbody>\n",
       "</table>\n",
       "</div>"
      ],
      "text/plain": [
       "             city  count\n",
       "0     New York NY    754\n",
       "1      Toronto ON    457\n",
       "2  Los Angeles CA    344\n",
       "3     Montreal QC    334\n",
       "4      Chicago IL    285"
      ]
     },
     "execution_count": 9,
     "metadata": {},
     "output_type": "execute_result"
    }
   ],
   "source": [
    "dfcities = get_counts_of_cities_searched(citiesSeries)\n",
    "dfcities.head()"
   ]
  },
  {
   "cell_type": "code",
   "execution_count": 10,
   "metadata": {
    "colab": {},
    "colab_type": "code",
    "id": "tZsC7D-Cg3Sv"
   },
   "outputs": [],
   "source": [
    "# dataframe read from the csv file; Cities & Countries\n",
    "citiesCountriesDF = get_country_of_cities(world_cities_csv)"
   ]
  },
  {
   "cell_type": "code",
   "execution_count": null,
   "metadata": {
    "colab": {
     "base_uri": "https://localhost:8080/",
     "height": 85
    },
    "colab_type": "code",
    "executionInfo": {
     "elapsed": 1443,
     "status": "ok",
     "timestamp": 1565024150379,
     "user": {
      "displayName": "Saeed Rashwand",
      "photoUrl": "https://lh5.googleusercontent.com/-t7uMjMeGeks/AAAAAAAAAAI/AAAAAAAAAbE/E0087nAfsXw/s64/photo.jpg",
      "userId": "12401044934727524310"
     },
     "user_tz": 240
    },
    "id": "LXFbCKdUOFnI",
    "outputId": "6b3175a5-ee7e-4f14-bc52-c342256f8f8a"
   },
   "outputs": [],
   "source": [
    "country_to_freq_of_cities(dfcities, citiesCountriesDF)"
   ]
  },
  {
   "cell_type": "code",
   "execution_count": 12,
   "metadata": {
    "colab": {},
    "colab_type": "code",
    "id": "2rjuzLE_MRiH"
   },
   "outputs": [],
   "source": [
    "#create a column for countries of 2-letter abbreviations\n",
    "dfcities[\"cn\"] = dfcities[\"country\"].apply(countryToAbr)"
   ]
  },
  {
   "cell_type": "code",
   "execution_count": 13,
   "metadata": {
    "colab": {},
    "colab_type": "code",
    "id": "4XjCo6LCYelQ"
   },
   "outputs": [],
   "source": [
    "# count countries \n",
    "countrySearchedCounts = dfcities[\"cn\"].apply(pd.Series).stack().value_counts()"
   ]
  },
  {
   "cell_type": "code",
   "execution_count": 14,
   "metadata": {
    "colab": {
     "base_uri": "https://localhost:8080/",
     "height": 328
    },
    "colab_type": "code",
    "executionInfo": {
     "elapsed": 315,
     "status": "ok",
     "timestamp": 1565024046372,
     "user": {
      "displayName": "Saeed Rashwand",
      "photoUrl": "https://lh5.googleusercontent.com/-t7uMjMeGeks/AAAAAAAAAAI/AAAAAAAAAbE/E0087nAfsXw/s64/photo.jpg",
      "userId": "12401044934727524310"
     },
     "user_tz": 240
    },
    "id": "F9AIeemHRp0I",
    "outputId": "d8b9b0e8-2d8b-408e-ce5e-8c5d5ddba4e6"
   },
   "outputs": [],
   "source": [
    "# Generate the probability\n",
    "missingCountriesdf = calculate_probabilities_for_missing_county(dfcities, countriesSet)"
   ]
  },
  {
   "cell_type": "code",
   "execution_count": 15,
   "metadata": {},
   "outputs": [
    {
     "data": {
      "text/html": [
       "<div>\n",
       "<style scoped>\n",
       "    .dataframe tbody tr th:only-of-type {\n",
       "        vertical-align: middle;\n",
       "    }\n",
       "\n",
       "    .dataframe tbody tr th {\n",
       "        vertical-align: top;\n",
       "    }\n",
       "\n",
       "    .dataframe thead th {\n",
       "        text-align: right;\n",
       "    }\n",
       "</style>\n",
       "<table border=\"1\" class=\"dataframe\">\n",
       "  <thead>\n",
       "    <tr style=\"text-align: right;\">\n",
       "      <th></th>\n",
       "      <th>cn</th>\n",
       "      <th>country</th>\n",
       "      <th>count</th>\n",
       "      <th>probability</th>\n",
       "    </tr>\n",
       "  </thead>\n",
       "  <tbody>\n",
       "    <tr>\n",
       "      <th>4</th>\n",
       "      <td>CA</td>\n",
       "      <td>Canada</td>\n",
       "      <td>1367</td>\n",
       "      <td>0.652506</td>\n",
       "    </tr>\n",
       "    <tr>\n",
       "      <th>5</th>\n",
       "      <td>CL</td>\n",
       "      <td>Chile</td>\n",
       "      <td>435</td>\n",
       "      <td>0.207637</td>\n",
       "    </tr>\n",
       "    <tr>\n",
       "      <th>7</th>\n",
       "      <td>CR</td>\n",
       "      <td>Costa Rica</td>\n",
       "      <td>158</td>\n",
       "      <td>0.075418</td>\n",
       "    </tr>\n",
       "    <tr>\n",
       "      <th>1</th>\n",
       "      <td>AR</td>\n",
       "      <td>Argentina</td>\n",
       "      <td>43</td>\n",
       "      <td>0.020525</td>\n",
       "    </tr>\n",
       "    <tr>\n",
       "      <th>8</th>\n",
       "      <td>PE</td>\n",
       "      <td>Peru</td>\n",
       "      <td>41</td>\n",
       "      <td>0.019570</td>\n",
       "    </tr>\n",
       "    <tr>\n",
       "      <th>2</th>\n",
       "      <td>BM</td>\n",
       "      <td>Bermuda</td>\n",
       "      <td>20</td>\n",
       "      <td>0.009547</td>\n",
       "    </tr>\n",
       "    <tr>\n",
       "      <th>3</th>\n",
       "      <td>BR</td>\n",
       "      <td>Brazil</td>\n",
       "      <td>18</td>\n",
       "      <td>0.008592</td>\n",
       "    </tr>\n",
       "    <tr>\n",
       "      <th>9</th>\n",
       "      <td>RU</td>\n",
       "      <td>Russian Federation</td>\n",
       "      <td>10</td>\n",
       "      <td>0.004773</td>\n",
       "    </tr>\n",
       "    <tr>\n",
       "      <th>6</th>\n",
       "      <td>CO</td>\n",
       "      <td>Colombia</td>\n",
       "      <td>3</td>\n",
       "      <td>0.001432</td>\n",
       "    </tr>\n",
       "  </tbody>\n",
       "</table>\n",
       "</div>"
      ],
      "text/plain": [
       "   cn             country  count  probability\n",
       "4  CA              Canada   1367     0.652506\n",
       "5  CL               Chile    435     0.207637\n",
       "7  CR          Costa Rica    158     0.075418\n",
       "1  AR           Argentina     43     0.020525\n",
       "8  PE                Peru     41     0.019570\n",
       "2  BM             Bermuda     20     0.009547\n",
       "3  BR              Brazil     18     0.008592\n",
       "9  RU  Russian Federation     10     0.004773\n",
       "6  CO            Colombia      3     0.001432"
      ]
     },
     "execution_count": 15,
     "metadata": {},
     "output_type": "execute_result"
    }
   ],
   "source": [
    "missingCountriesdf"
   ]
  },
  {
   "cell_type": "code",
   "execution_count": 18,
   "metadata": {},
   "outputs": [
    {
     "data": {
      "text/html": [
       "<div>\n",
       "<style scoped>\n",
       "    .dataframe tbody tr th:only-of-type {\n",
       "        vertical-align: middle;\n",
       "    }\n",
       "\n",
       "    .dataframe tbody tr th {\n",
       "        vertical-align: top;\n",
       "    }\n",
       "\n",
       "    .dataframe thead th {\n",
       "        text-align: right;\n",
       "    }\n",
       "</style>\n",
       "<table border=\"1\" class=\"dataframe\">\n",
       "  <thead>\n",
       "    <tr style=\"text-align: right;\">\n",
       "      <th></th>\n",
       "      <th>cn</th>\n",
       "      <th>country</th>\n",
       "      <th>count</th>\n",
       "      <th>probability</th>\n",
       "    </tr>\n",
       "  </thead>\n",
       "  <tbody>\n",
       "    <tr>\n",
       "      <th>4</th>\n",
       "      <td>CA</td>\n",
       "      <td>Canada</td>\n",
       "      <td>1367</td>\n",
       "      <td>0.652506</td>\n",
       "    </tr>\n",
       "    <tr>\n",
       "      <th>5</th>\n",
       "      <td>CL</td>\n",
       "      <td>Chile</td>\n",
       "      <td>435</td>\n",
       "      <td>0.207637</td>\n",
       "    </tr>\n",
       "    <tr>\n",
       "      <th>7</th>\n",
       "      <td>CR</td>\n",
       "      <td>Costa Rica</td>\n",
       "      <td>158</td>\n",
       "      <td>0.075418</td>\n",
       "    </tr>\n",
       "    <tr>\n",
       "      <th>1</th>\n",
       "      <td>AR</td>\n",
       "      <td>Argentina</td>\n",
       "      <td>43</td>\n",
       "      <td>0.020525</td>\n",
       "    </tr>\n",
       "    <tr>\n",
       "      <th>8</th>\n",
       "      <td>PE</td>\n",
       "      <td>Peru</td>\n",
       "      <td>41</td>\n",
       "      <td>0.019570</td>\n",
       "    </tr>\n",
       "    <tr>\n",
       "      <th>2</th>\n",
       "      <td>BM</td>\n",
       "      <td>Bermuda</td>\n",
       "      <td>20</td>\n",
       "      <td>0.009547</td>\n",
       "    </tr>\n",
       "    <tr>\n",
       "      <th>3</th>\n",
       "      <td>BR</td>\n",
       "      <td>Brazil</td>\n",
       "      <td>18</td>\n",
       "      <td>0.008592</td>\n",
       "    </tr>\n",
       "    <tr>\n",
       "      <th>9</th>\n",
       "      <td>RU</td>\n",
       "      <td>Russian Federation</td>\n",
       "      <td>10</td>\n",
       "      <td>0.004773</td>\n",
       "    </tr>\n",
       "    <tr>\n",
       "      <th>6</th>\n",
       "      <td>CO</td>\n",
       "      <td>Colombia</td>\n",
       "      <td>3</td>\n",
       "      <td>0.001432</td>\n",
       "    </tr>\n",
       "  </tbody>\n",
       "</table>\n",
       "</div>"
      ],
      "text/plain": [
       "   cn             country  count  probability\n",
       "4  CA              Canada   1367     0.652506\n",
       "5  CL               Chile    435     0.207637\n",
       "7  CR          Costa Rica    158     0.075418\n",
       "1  AR           Argentina     43     0.020525\n",
       "8  PE                Peru     41     0.019570\n",
       "2  BM             Bermuda     20     0.009547\n",
       "3  BR              Brazil     18     0.008592\n",
       "9  RU  Russian Federation     10     0.004773\n",
       "6  CO            Colombia      3     0.001432"
      ]
     },
     "execution_count": 18,
     "metadata": {},
     "output_type": "execute_result"
    }
   ],
   "source": [
    "missining_country_rates(json_file, world_cities_csv)"
   ]
  },
  {
   "cell_type": "code",
   "execution_count": null,
   "metadata": {},
   "outputs": [],
   "source": []
  }
 ],
 "metadata": {
  "colab": {
   "name": "coveo.ipynb",
   "provenance": [],
   "version": "0.3.2"
  },
  "kernelspec": {
   "display_name": "Python 3",
   "language": "python",
   "name": "python3"
  },
  "language_info": {
   "codemirror_mode": {
    "name": "ipython",
    "version": 3
   },
   "file_extension": ".py",
   "mimetype": "text/x-python",
   "name": "python",
   "nbconvert_exporter": "python",
   "pygments_lexer": "ipython3",
   "version": "3.6.8"
  }
 },
 "nbformat": 4,
 "nbformat_minor": 2
}
